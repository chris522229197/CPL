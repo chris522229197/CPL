{
 "cells": [
  {
   "cell_type": "code",
   "execution_count": 1,
   "id": "d697ddf6-9ed0-4507-9151-87c09673e38b",
   "metadata": {},
   "outputs": [],
   "source": [
    "import os\n",
    "import numpy as np\n",
    "import matplotlib.pyplot as plt"
   ]
  },
  {
   "cell_type": "code",
   "execution_count": 2,
   "id": "433d8abc-e244-43e1-b7d0-ee0d144c6c11",
   "metadata": {},
   "outputs": [],
   "source": [
    "PARENT_DIR = \"/projects/leelab/clin25\"\n",
    "DATASET = \"flickr30k\"\n",
    "DATASET_FORMATTED_NAME_DICT = {\"flickr30k\": \"Flickr30k\"}\n",
    "SEED = 1\n",
    "LAMBDA_VALUE_LIST = [0, 1, 5, 10]"
   ]
  },
  {
   "cell_type": "code",
   "execution_count": 3,
   "id": "18d5b403-357c-4d3e-9282-15bae3a2e149",
   "metadata": {},
   "outputs": [],
   "source": [
    "def retrieve_recall_at_1(\n",
    "    dataset: str, lambda_value: float, num_shots: int, seed: int = SEED\n",
    ") -> float:\n",
    "    if lambda_value == 1:\n",
    "        output_dir = \"cpl-output\"\n",
    "    else:\n",
    "        output_dir = f\"cpl-output-lambda{lambda_value}\"\n",
    "    \n",
    "    output_dir = os.path.join(\n",
    "        PARENT_DIR, output_dir, dataset, f\"{num_shots}-shots\", f\"{seed}\", \"eval-unseen\"\n",
    "    )\n",
    "    \n",
    "    with open(os.path.join(output_dir, \"log.txt\")) as handle:\n",
    "        log_text = handle.readlines()\n",
    "        \n",
    "    accuracy_line = log_text[-3].strip().replace(\"* \", \"\").replace(\":\", \"\")\n",
    "    assert accuracy_line.split(\" \")[0] == \"accuracy\"\n",
    "    return float(accuracy_line.split(\" \")[1].replace(\"%\", \"\"))"
   ]
  },
  {
   "cell_type": "code",
   "execution_count": 4,
   "id": "cf8f1e35-f743-4765-acf7-43d50c823bf9",
   "metadata": {},
   "outputs": [],
   "source": [
    "recall_145shots_list = [\n",
    "    retrieve_recall_at_1(DATASET, lambda_value, 145)\n",
    "    for lambda_value in LAMBDA_VALUE_LIST\n",
    "]\n",
    "recall_290shots_list = [\n",
    "    retrieve_recall_at_1(DATASET, lambda_value, 290)\n",
    "    for lambda_value in LAMBDA_VALUE_LIST\n",
    "]"
   ]
  },
  {
   "cell_type": "code",
   "execution_count": 5,
   "id": "616ed2ed-4304-49a9-be3a-3beeb355b642",
   "metadata": {},
   "outputs": [
    {
     "data": {
      "image/png": "[encoded data removed]",
      "text/plain": [
       "<Figure size 864x432 with 2 Axes>"
      ]
     },
     "metadata": {
      "needs_background": "light"
     },
     "output_type": "display_data"
    }
   ],
   "source": [
    "fig, axes = plt.subplots(1, 2, figsize=(12, 6), sharey=False)\n",
    "axes[0].plot(\n",
    "    LAMBDA_VALUE_LIST,\n",
    "    recall_145shots_list,\n",
    "    marker=\"o\",\n",
    ")\n",
    "axes[0].set_xlabel(r\"$\\lambda$\", fontsize=12)\n",
    "axes[0].set_ylabel(\"Recall@1\", fontsize=12)\n",
    "axes[0].set_title(\n",
    "    f\"{DATASET_FORMATTED_NAME_DICT[DATASET]} (0.5% training data)\",\n",
    "    fontsize=16,\n",
    ")\n",
    "axes[0].set_ylim([80, 90])\n",
    "\n",
    "axes[1].plot(\n",
    "    LAMBDA_VALUE_LIST,\n",
    "    recall_290shots_list,\n",
    "    marker=\"o\",\n",
    ")\n",
    "axes[1].set_xlabel(r\"$\\lambda$\", fontsize=12)\n",
    "axes[1].set_ylabel(\"Recall@1\", fontsize=12)\n",
    "axes[1].set_title(\n",
    "    f\"{DATASET_FORMATTED_NAME_DICT[DATASET]} (1% training data)\",\n",
    "    fontsize=16,\n",
    ")\n",
    "axes[1].set_ylim([80, 90])\n",
    "\n",
    "plt.show()"
   ]
  },
  {
   "cell_type": "code",
   "execution_count": null,
   "id": "335ce652-a1d5-4c0d-95fb-f4843fe61dda",
   "metadata": {},
   "outputs": [],
   "source": []
  }
 ],
 "metadata": {
  "kernelspec": {
   "display_name": "Python 3",
   "language": "python",
   "name": "python3"
  },
  "language_info": {
   "codemirror_mode": {
    "name": "ipython",
    "version": 3
   },
   "file_extension": ".py",
   "mimetype": "text/x-python",
   "name": "python",
   "nbconvert_exporter": "python",
   "pygments_lexer": "ipython3",
   "version": "3.9.13"
  }
 },
 "nbformat": 4,
 "nbformat_minor": 5
}
