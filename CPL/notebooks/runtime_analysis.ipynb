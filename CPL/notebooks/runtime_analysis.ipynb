{
 "cells": [
  {
   "cell_type": "code",
   "execution_count": 29,
   "id": "0a0d8d8d-9161-45e2-8c82-39b1aee1697b",
   "metadata": {},
   "outputs": [],
   "source": [
    "import os\n",
    "import numpy as np\n",
    "from typing import List"
   ]
  },
  {
   "cell_type": "code",
   "execution_count": 54,
   "id": "468ee099-848b-4c99-b337-a6d7195ae2bc",
   "metadata": {},
   "outputs": [],
   "source": [
    "PARENT_DIR = \"/projects/leelab/clin25\"\n",
    "DATASET_LIST = [\n",
    "    \"sun397\",\n",
    "    \"caltech-101\",\n",
    "    \"oxford_flowers\",\n",
    "    \"food-101\",\n",
    "]\n",
    "SEED_LIST = [1, 2, 3]\n",
    "BATCH_TIME_MULTIPLIER = 20"
   ]
  },
  {
   "cell_type": "code",
   "execution_count": 38,
   "id": "53a15b06-3f00-4989-98a2-1fc25d269862",
   "metadata": {},
   "outputs": [],
   "source": [
    "def retrieve_runtime(method: str, dataset: str, seed: int) -> List[float]:\n",
    "    output_dir = os.path.join(\n",
    "        PARENT_DIR, f\"{method}-output\", dataset, \"base\", f\"{seed}\"\n",
    "    )\n",
    "    log_file = os.path.join(output_dir, \"log.txt\")\n",
    "    with open(log_file) as handle:\n",
    "        log_text = handle.readlines()\n",
    "    batch_log_list = [line for line in log_text if line.startswith(\"epoch\")]\n",
    "    \n",
    "    batch_epoch_list = [\n",
    "        int(batch_log.split(\"[\")[1].split(\"/\")[0])\n",
    "        for batch_log in batch_log_list\n",
    "    ]\n",
    "    batch_time_list = [\n",
    "        float(batch_log.split(\"time \")[1].split(\" \")[0])\n",
    "        for batch_log in batch_log_list\n",
    "    ]\n",
    "    batch_epoch_list = np.array(batch_epoch_list)\n",
    "    batch_time_list = np.array(batch_time_list)\n",
    "    \n",
    "    epoch_time_list = []\n",
    "    for i in range(batch_epoch_list.max()):\n",
    "        epoch = i + 1\n",
    "        epoch_time = batch_time_list[batch_epoch_list == epoch]\n",
    "        epoch_time = epoch_time.sum()\n",
    "        epoch_time_list.append(epoch_time)\n",
    "        \n",
    "    return epoch_time_list"
   ]
  },
  {
   "cell_type": "markdown",
   "id": "e18abe37-b140-48f1-9558-0144da6daae4",
   "metadata": {},
   "source": [
    "## CoCoOp runtime"
   ]
  },
  {
   "cell_type": "code",
   "execution_count": 57,
   "id": "e52603b3-45b0-494d-809d-9a1aa0ec8502",
   "metadata": {},
   "outputs": [
    {
     "name": "stdout",
     "output_type": "stream",
     "text": [
      "CoCoOp training GPU runtime.\n",
      "---------------------------------------------\n",
      "sun397\n",
      "\tEpoch mean (sd): 8.796 (0.162)\n",
      "\tTotal mean (sd): 87.957 (1.619)\n",
      "---------------------------------------------\n",
      "caltech-101\n",
      "\tEpoch mean (sd): 0.703 (0.013)\n",
      "\tTotal mean (sd): 7.032 (0.135)\n",
      "---------------------------------------------\n",
      "oxford_flowers\n",
      "\tEpoch mean (sd): 0.705 (0.004)\n",
      "\tTotal mean (sd): 7.053 (0.039)\n",
      "---------------------------------------------\n",
      "food-101\n",
      "\tEpoch mean (sd): 2.283 (0.079)\n",
      "\tTotal mean (sd): 22.834 (0.792)\n",
      "---------------------------------------------\n"
     ]
    }
   ],
   "source": [
    "print(\"CoCoOp training GPU runtime.\")\n",
    "print(\"-\" * 45)\n",
    "\n",
    "for dataset in DATASET_LIST:\n",
    "    print(dataset)\n",
    "    epoch_runtime_list = []\n",
    "    total_runtime_list = []\n",
    "    \n",
    "    for seed in SEED_LIST:\n",
    "        epoch_time_list = retrieve_runtime(\"cocoop\", dataset, seed)\n",
    "        epoch_runtime_list.append(np.mean(epoch_time_list) * BATCH_TIME_MULTIPLIER / 60)\n",
    "        total_runtime_list.append(np.sum(epoch_time_list) * BATCH_TIME_MULTIPLIER / 60)\n",
    "    \n",
    "    epoch_runtime_mean = np.mean(epoch_runtime_list)\n",
    "    epoch_runtime_std = np.std(epoch_runtime_list)\n",
    "    total_runtime_mean = np.mean(total_runtime_list)\n",
    "    total_runtime_std = np.std(total_runtime_list)\n",
    "    \n",
    "    print(f\"\\tEpoch mean (sd): {epoch_runtime_mean:.3f} ({epoch_runtime_std:.3f})\")\n",
    "    print(f\"\\tTotal mean (sd): {total_runtime_mean:.3f} ({total_runtime_std:.3f})\")\n",
    "    \n",
    "    print(\"-\" * 45)"
   ]
  },
  {
   "cell_type": "markdown",
   "id": "e837b070-31e2-441f-bcd0-e323f653b9c1",
   "metadata": {},
   "source": [
    "## CPL runtime"
   ]
  },
  {
   "cell_type": "code",
   "execution_count": 58,
   "id": "9fb26da8-e9f9-42df-a46a-909d6c83793e",
   "metadata": {},
   "outputs": [
    {
     "name": "stdout",
     "output_type": "stream",
     "text": [
      "CPL training GPU runtime.\n",
      "---------------------------------------------\n",
      "sun397\n",
      "\tEpoch mean (sd): 142.338 (3.518)\n",
      "\tTotal mean (sd): 1423.381 (35.182)\n",
      "---------------------------------------------\n",
      "caltech-101\n",
      "\tEpoch mean (sd): 35.782 (1.086)\n",
      "\tTotal mean (sd): 357.818 (10.858)\n",
      "---------------------------------------------\n",
      "oxford_flowers\n",
      "\tEpoch mean (sd): 38.803 (2.138)\n",
      "\tTotal mean (sd): 388.032 (21.380)\n",
      "---------------------------------------------\n",
      "food-101\n",
      "\tEpoch mean (sd): 41.302 (1.085)\n",
      "\tTotal mean (sd): 413.021 (10.850)\n",
      "---------------------------------------------\n"
     ]
    }
   ],
   "source": [
    "print(\"CPL training GPU runtime.\")\n",
    "print(\"-\" * 45)\n",
    "\n",
    "for dataset in DATASET_LIST:\n",
    "    print(dataset)\n",
    "    epoch_runtime_list = []\n",
    "    total_runtime_list = []\n",
    "    \n",
    "    for seed in SEED_LIST:\n",
    "        epoch_time_list = retrieve_runtime(\"cpl\", dataset, seed)\n",
    "        epoch_runtime_list.append(np.mean(epoch_time_list) * BATCH_TIME_MULTIPLIER / 60)\n",
    "        total_runtime_list.append(np.sum(epoch_time_list) * BATCH_TIME_MULTIPLIER / 60)\n",
    "    \n",
    "    epoch_runtime_mean = np.mean(epoch_runtime_list)\n",
    "    epoch_runtime_std = np.std(epoch_runtime_list)\n",
    "    total_runtime_mean = np.mean(total_runtime_list)\n",
    "    total_runtime_std = np.std(total_runtime_list)\n",
    "    \n",
    "    print(f\"\\tEpoch mean (sd): {epoch_runtime_mean:.3f} ({epoch_runtime_std:.3f})\")\n",
    "    print(f\"\\tTotal mean (sd): {total_runtime_mean:.3f} ({total_runtime_std:.3f})\")\n",
    "    \n",
    "    print(\"-\" * 45)"
   ]
  },
  {
   "cell_type": "code",
   "execution_count": null,
   "id": "3934cc1f-5199-4b20-b671-57c63369eb18",
   "metadata": {},
   "outputs": [],
   "source": []
  }
 ],
 "metadata": {
  "kernelspec": {
   "display_name": "Python 3",
   "language": "python",
   "name": "python3"
  },
  "language_info": {
   "codemirror_mode": {
    "name": "ipython",
    "version": 3
   },
   "file_extension": ".py",
   "mimetype": "text/x-python",
   "name": "python",
   "nbconvert_exporter": "python",
   "pygments_lexer": "ipython3",
   "version": "3.9.13"
  }
 },
 "nbformat": 4,
 "nbformat_minor": 5
}
