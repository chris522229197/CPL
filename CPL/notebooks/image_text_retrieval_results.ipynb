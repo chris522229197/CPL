{
 "cells": [
  {
   "cell_type": "code",
   "execution_count": 1,
   "id": "9e31bae8-7d14-4a09-ac1d-6a234775de15",
   "metadata": {},
   "outputs": [],
   "source": [
    "import os\n",
    "import numpy as np"
   ]
  },
  {
   "cell_type": "code",
   "execution_count": 2,
   "id": "5ee6df33-f8d2-4621-91d2-c0cffd2565ec",
   "metadata": {},
   "outputs": [],
   "source": [
    "PARENT_DIR = \"/projects/leelab/clin25\"\n",
    "FROMATTED_METHOD_DICT = {\n",
    "    \"cocoop\": \"CoCoOp\",\n",
    "    \"cpl\": \"CPL\",\n",
    "}\n",
    "DATASET_LIST = [\"flickr30k\"]\n",
    "SEED_LIST = [1, 2, 3]\n",
    "\n",
    "PAPER_RECALL_145SHOTS_DICT = {\n",
    "    \"cocoop\": {\"flickr30k\": 82.40},\n",
    "    \"cpl\": {\"flickr30k\": 85.64},\n",
    "}\n",
    "\n",
    "PAPER_RECALL_290SHOTS_DICT = {\n",
    "    \"cocoop\": {\"flickr30k\": 84.80},\n",
    "    \"cpl\": {\"flickr30k\": 86.91},\n",
    "}\n",
    "\n",
    "PAPER_RECALL_DICT = {\n",
    "    145: PAPER_RECALL_145SHOTS_DICT,\n",
    "    290: PAPER_RECALL_290SHOTS_DICT,\n",
    "}"
   ]
  },
  {
   "cell_type": "code",
   "execution_count": 3,
   "id": "d70b6395-03ee-4407-b667-f2896553325d",
   "metadata": {},
   "outputs": [],
   "source": [
    "def retrieve_recall_at_1(method: str, dataset: str, seed: int, num_shots: int) -> float:\n",
    "    output_dir = os.path.join(\n",
    "        PARENT_DIR,\n",
    "        f\"{method}-output\",\n",
    "        dataset,\n",
    "        f\"{num_shots}-shots\",\n",
    "        f\"{seed}\",\n",
    "        \"eval-unseen\",\n",
    "    )\n",
    "    with open(os.path.join(output_dir, \"log.txt\")) as handle:\n",
    "        log_text = handle.readlines()\n",
    "        \n",
    "    accuracy_line = log_text[-3].strip().replace(\"* \", \"\").replace(\":\", \"\")\n",
    "    assert accuracy_line.split(\" \")[0] == \"accuracy\"\n",
    "    return float(accuracy_line.split(\" \")[1].replace(\"%\", \"\"))"
   ]
  },
  {
   "cell_type": "code",
   "execution_count": 4,
   "id": "84a2bb9c-1a32-4989-9d06-ac403f6d3f9f",
   "metadata": {},
   "outputs": [],
   "source": [
    "def print_result_summary(method: str, num_shots: int) -> None:\n",
    "    print(f\"{FROMATTED_METHOD_DICT[method]} recall@1 with {num_shots} shots.\")\n",
    "    print(\"-\" * 45)\n",
    "    for dataset in DATASET_LIST:\n",
    "        print(dataset)\n",
    "        recall_list = [\n",
    "            retrieve_recall_at_1(method, dataset, seed, num_shots)\n",
    "            for seed in SEED_LIST\n",
    "        ]\n",
    "        paper_recall = PAPER_RECALL_DICT[num_shots][method][dataset]\n",
    "\n",
    "        for i in range(len(recall_list)):\n",
    "            if i == 0:\n",
    "                relative_diff = (recall_list[i] - paper_recall) / paper_recall * 100\n",
    "                relative_diff = f\" ({relative_diff:.2f})\"\n",
    "            else:\n",
    "                relative_diff = \"\"\n",
    "            print(f\"\\tRecall@1 with seed {SEED_LIST[i]}: {recall_list[i]}{relative_diff}\")\n",
    "\n",
    "        recall_mean = np.mean(recall_list)\n",
    "        recall_se = np.var(recall_list) / np.sqrt(len(recall_list))\n",
    "        recall_ci = 1.96 * recall_se\n",
    "\n",
    "        mean_relative_diff = (recall_mean - paper_recall) / paper_recall * 100\n",
    "        ci_contains_paper_recall = (\n",
    "            (paper_recall <= recall_mean + recall_ci)\n",
    "            & (paper_recall >= recall_mean - recall_ci)\n",
    "        )\n",
    "\n",
    "        print(\n",
    "            f\"\\tRecall@1 mean (95% CI): {recall_mean:.2f} ({recall_ci:.2f})\"\n",
    "        )\n",
    "        print(\"\")\n",
    "        print(f\"\\tMean relative difference with paper recall@1: {mean_relative_diff:.2f}\")\n",
    "        print(f\"\\t95% CI contains paper recall@1: {ci_contains_paper_recall}\")\n",
    "        print(\"-\" * 45)"
   ]
  },
  {
   "cell_type": "markdown",
   "id": "3604e1b0-7a84-448d-ab55-da7bb06fab3e",
   "metadata": {},
   "source": [
    "## Performance 145 shots"
   ]
  },
  {
   "cell_type": "code",
   "execution_count": 5,
   "id": "2b3df819-8021-476e-bd73-2f8930438747",
   "metadata": {},
   "outputs": [
    {
     "name": "stdout",
     "output_type": "stream",
     "text": [
      "CoCoOp recall@1 with 145 shots.\n",
      "---------------------------------------------\n",
      "flickr30k\n",
      "\tRecall@1 with seed 1: 82.4 (0.00)\n",
      "\tRecall@1 with seed 2: 82.5\n",
      "\tRecall@1 with seed 3: 83.4\n",
      "\tRecall@1 mean (95% CI): 82.77 (0.23)\n",
      "\n",
      "\tMean relative difference with paper recall@1: 0.44\n",
      "\t95% CI contains paper recall@1: False\n",
      "---------------------------------------------\n"
     ]
    }
   ],
   "source": [
    "print_result_summary(\"cocoop\", 145)"
   ]
  },
  {
   "cell_type": "code",
   "execution_count": 6,
   "id": "de592e3c-5260-481d-a578-1f541aece6a7",
   "metadata": {},
   "outputs": [
    {
     "name": "stdout",
     "output_type": "stream",
     "text": [
      "CPL recall@1 with 145 shots.\n",
      "---------------------------------------------\n",
      "flickr30k\n",
      "\tRecall@1 with seed 1: 83.2 (-2.85)\n",
      "\tRecall@1 with seed 2: 83.2\n",
      "\tRecall@1 with seed 3: 83.0\n",
      "\tRecall@1 mean (95% CI): 83.13 (0.01)\n",
      "\n",
      "\tMean relative difference with paper recall@1: -2.93\n",
      "\t95% CI contains paper recall@1: False\n",
      "---------------------------------------------\n"
     ]
    }
   ],
   "source": [
    "print_result_summary(\"cpl\", 145)"
   ]
  },
  {
   "cell_type": "markdown",
   "id": "5050a6f6-2b5a-4a83-9c5e-daeb63c53dcd",
   "metadata": {},
   "source": [
    "## Performance with 290 shots"
   ]
  },
  {
   "cell_type": "code",
   "execution_count": 7,
   "id": "0e970370-1536-49cb-810f-02f3c00af906",
   "metadata": {},
   "outputs": [
    {
     "name": "stdout",
     "output_type": "stream",
     "text": [
      "CoCoOp recall@1 with 290 shots.\n",
      "---------------------------------------------\n",
      "flickr30k\n",
      "\tRecall@1 with seed 1: 85.2 (0.47)\n",
      "\tRecall@1 with seed 2: 83.0\n",
      "\tRecall@1 with seed 3: 84.7\n",
      "\tRecall@1 mean (95% CI): 84.30 (1.00)\n",
      "\n",
      "\tMean relative difference with paper recall@1: -0.59\n",
      "\t95% CI contains paper recall@1: True\n",
      "---------------------------------------------\n"
     ]
    }
   ],
   "source": [
    "print_result_summary(\"cocoop\", 290)"
   ]
  },
  {
   "cell_type": "code",
   "execution_count": 8,
   "id": "8ed01a31-743d-4cb9-b6a9-2d909391e0be",
   "metadata": {},
   "outputs": [
    {
     "name": "stdout",
     "output_type": "stream",
     "text": [
      "CPL recall@1 with 290 shots.\n",
      "---------------------------------------------\n",
      "flickr30k\n",
      "\tRecall@1 with seed 1: 85.1 (-2.08)\n",
      "\tRecall@1 with seed 2: 83.0\n",
      "\tRecall@1 with seed 3: 84.4\n",
      "\tRecall@1 mean (95% CI): 84.17 (0.86)\n",
      "\n",
      "\tMean relative difference with paper recall@1: -3.16\n",
      "\t95% CI contains paper recall@1: False\n",
      "---------------------------------------------\n"
     ]
    }
   ],
   "source": [
    "print_result_summary(\"cpl\", 290)"
   ]
  },
  {
   "cell_type": "code",
   "execution_count": null,
   "id": "ae9825f5-34b4-4821-a440-2eb0e598e891",
   "metadata": {},
   "outputs": [],
   "source": []
  }
 ],
 "metadata": {
  "kernelspec": {
   "display_name": "Python 3",
   "language": "python",
   "name": "python3"
  },
  "language_info": {
   "codemirror_mode": {
    "name": "ipython",
    "version": 3
   },
   "file_extension": ".py",
   "mimetype": "text/x-python",
   "name": "python",
   "nbconvert_exporter": "python",
   "pygments_lexer": "ipython3",
   "version": "3.9.13"
  }
 },
 "nbformat": 4,
 "nbformat_minor": 5
}
